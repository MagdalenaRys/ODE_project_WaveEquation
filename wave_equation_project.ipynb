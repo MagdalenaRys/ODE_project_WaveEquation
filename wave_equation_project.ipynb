{
 "cells": [
  {
   "cell_type": "markdown",
   "metadata": {},
   "source": [
    "# Struna gitarowa na podstawie równania falowego\n",
    "### Zuzanna Sosnowska, Magdalena Ryś"
   ]
  },
  {
   "cell_type": "markdown",
   "metadata": {},
   "source": [
    "### Opis projektu\n",
    "Projekt ma na celu rozważenie równania falowego na przykładzie struny gitarowej. Równanie rozwiążemy analitycznie, za pomocą metody Fouriera, a także numerycznie, korzystając z metody strzałów.\n",
    "\n",
    "(DALSZY OPIS PROJEKTU)"
   ]
  },
  {
   "cell_type": "markdown",
   "metadata": {},
   "source": [
    "### Dane początkowe\n",
    "Równaniem, na którym opieramy nasze rozważania jest **równanie falowe**:\n",
    "$$ u_{tt} = c^2 u_{xx}, \\quad 0<x<l, \\quad t>0 $$\n",
    "Z **warunkami początkowymi**:\n",
    "$$ \\left\\{\\begin{array}{ll} u(0,x) = f(x), \\quad 0<x<l\\\\\n",
    "u_{t}(0, x)=f(x), \\quad 0<x<l \\end{array} \\right. $$\n",
    "gdzie $f$ jest początkowym położeniem, a $g$ początkową prędkością (pierwszą pochodną po położeniu)\n",
    "Kładziemy również **warunki brzegowe**, wynikające z faktu, że rozważamy skończoną strunę gitarową, której końce są unieruchomione:\n",
    "$$ \\left\\{\\begin{array}{ll} u(t,0) = 0, \\quad t>0\\\\\n",
    "u(t, l)=0, \\quad t>0 \\end{array} \\right. $$"
   ]
  },
  {
   "cell_type": "markdown",
   "metadata": {},
   "source": [
    "### Rozwiązanie analityczne - metoda Fouriera\n",
    "Metoda Fouriera, nazywana również metodą rozdzielania albo separacji zmiennych, służy rozwiązywaniiu równań różniczkowych cząstkowych, takich jak równanie struny. Polega ona na próbie wyznaczenia rozwiązania w postaci kombinacji (najczęściej sumy lub iloczynu) funkcji o mniejszej ilości zmiennych. Metoda ta jest szczególnie pomocna przy równaniach z zadanymi warunkami brzegowymi.\n",
    "\n",
    "W przypadku równania falowego, gdzie $u$ jest funkcją zmiennych $x$ i $t$, rozwiązanie będzie iloczynem dwóch funkcji jednej zmiennej."
   ]
  }
 ],
 "metadata": {
  "language_info": {
   "name": "python"
  }
 },
 "nbformat": 4,
 "nbformat_minor": 2
}
