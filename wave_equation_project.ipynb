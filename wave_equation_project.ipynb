{
 "cells": [
  {
   "cell_type": "markdown",
   "metadata": {},
   "source": [
    "# Struna gitarowa na podstawie równania falowego\n",
    "### Zuzanna Sosnowska, Magdalena Ryś"
   ]
  },
  {
   "cell_type": "markdown",
   "metadata": {},
   "source": [
    "### Opis projektu\n",
    "Projekt ma na celu rozważenie równania falowego na przykładzie struny gitarowej. Równanie rozwiążemy analitycznie, za pomocą metody Fouriera, a także numerycznie, korzystając z metody strzałów.\n",
    "\n",
    "(DALSZY OPIS PROJEKTU)"
   ]
  },
  {
   "cell_type": "markdown",
   "metadata": {},
   "source": [
    "### Dane początkowe\n",
    "Równaniem, na którym opieramy nasze rozważania jest **równanie falowe**:\n",
    "$$ u_{tt} = c^2 u_{xx}, \\quad 0<x<l, \\quad t>0 $$\n",
    "Z **warunkami początkowymi**:\n",
    "$$ \n",
    "\\left\\{\n",
    "\\begin{array}{ll} \n",
    "u(0,x) = f(x), \\quad 0<x<l \\\\\n",
    "u_{t}(0, x)=f(x), \\quad 0<x<l \n",
    "\\end{array} \n",
    "\\right. \n",
    "$$\n",
    "gdzie $f$ jest początkowym przesunięciem, a $g$ początkową prędkością (pierwszą pochodną po położeniu).\n",
    "\n",
    "Kładziemy również **warunki brzegowe**, wynikające z faktu, że rozważamy skończoną strunę gitarową, której końce są unieruchomione:\n",
    "$$ \n",
    "\\left\\{\n",
    "\\begin{array}{ll} \n",
    "u(t,0) = 0, \\quad t>0 \\\\\n",
    "u(t, l)=0, \\quad t>0 \n",
    "\\end{array} \n",
    "\\right. \n",
    "$$"
   ]
  },
  {
   "cell_type": "markdown",
   "metadata": {},
   "source": [
    "### Rozwiązanie analityczne - metoda Fouriera\n",
    "Metoda Fouriera, nazywana również metodą rozdzielania albo separacji zmiennych, służy rozwiązywaniiu równań różniczkowych cząstkowych, takich jak równanie struny. Polega ona na próbie wyznaczenia rozwiązania w postaci kombinacji (najczęściej sumy lub iloczynu) funkcji o mniejszej ilości zmiennych. Metoda ta jest szczególnie pomocna przy równaniach z zadanymi warunkami brzegowymi.\n",
    "\n",
    "W przypadku równania falowego, gdzie $u$ jest funkcją zmiennych $x$ i $t$, rozwiązanie będzie iloczynem dwóch funkcji jednej zmiennej. Wprowadzamy więc postać:\n",
    "$$ U(x,t) = X(x) T(t) $$\n",
    "i podstawiamy ją pod równanie falowe, w wyniku czego otrzymujemy:\n",
    "$$ T''X = c^2 TX'' $$\n",
    "W wyniku czego, zakładając, że $T \\neq 0$ i $X \\neq 0$, mamy:\n",
    "$$\\frac{1}{c^2}\\frac{T''}{T} = \\frac{X''}{X}$$\n",
    "Zauważmy, że lewa strona zależy jedynie od zmiennej $t$, natomiast prawa od $x$. Możemy więc wywnioskować, że muszą one być równe stałej, którą oznaczymy jako $-\\lambda$. Mamy więc:\n",
    "\n",
    "$$ \n",
    "\\left\\{\n",
    "\\begin{array}{ll} \n",
    "\\dfrac{1}{c^2}\\dfrac{T''}{T} = -\\lambda \\\\ \\\\\n",
    "\\dfrac{X''}{X} = -\\lambda \n",
    "\\end{array} \n",
    "\\right. \n",
    "$$\n",
    "\n",
    "Skąd otrzymujemy układ dwóch równań zwyczajnych:\n",
    "\n",
    "$$ \n",
    "\\left\\{\n",
    "\\begin{array}{ll} \n",
    "T''+c^2 \\lambda T=0 \\\\\n",
    " X'' + \\lambda X = 0\n",
    "\\end{array} \n",
    "\\right. \n",
    "$$\n",
    "\n",
    "Ponadto, z warunków brzegowych wynika, że:\n",
    "\n",
    "$$ X(0) = X(l) = 0 $$\n",
    "\n",
    "Mając równania różniczkowe zwyczajne, posiadamy wystarczającą wiedzę, żeby rozważyć ich rozwiązania w zależności od znaku $\\lambda$"
   ]
  },
  {
   "cell_type": "markdown",
   "metadata": {},
   "source": [
    "**Przypadek 1:** $\\quad \\lambda < 0$\n",
    "\n",
    "W przypadku $\\lambda < 0$ powyższe równania mają rozwiązania postaci:\n",
    "$$ \n",
    "\\left\\{\n",
    "\\begin{array}{ll} \n",
    "T(t) = A e^{\\sqrt{-\\lambda}ct} + B e^{-\\sqrt{-\\lambda}ct} \\\\\n",
    "X(x) = C e^{\\sqrt{-\\lambda}x} + D e^{\\sqrt{-\\lambda}x}\n",
    "\\end{array} \n",
    "\\right. \n",
    "$$\n",
    "\n",
    "Jednak zauważmy, że z warunków brzegowych wynika, że $C = D = 0$, co oznacza, że $X(x) = 0$, a zarazem $u(x,t) = 0$. Rozwiązanie to pomijamy, ponieważ nie wnosi ono niczego do naszych rozważań na temat struny gitarowej.\n",
    "\n",
    "**Przypadek 2:** $\\quad \\lambda = 0$\n",
    "\n",
    "W tym przypadku otrzymujemy rozwiązania postaci:\n",
    "$$ \n",
    "\\left\\{\n",
    "\\begin{array}{ll} \n",
    "T(t) = A + Bt \\\\\n",
    "X(x) = C + Dx\n",
    "\\end{array} \n",
    "\\right. \n",
    "$$"
   ]
  }
 ],
 "metadata": {
  "language_info": {
   "name": "python"
  }
 },
 "nbformat": 4,
 "nbformat_minor": 2
}
