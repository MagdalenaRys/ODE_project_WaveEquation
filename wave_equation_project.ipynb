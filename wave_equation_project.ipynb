{
 "cells": [
  {
   "cell_type": "markdown",
   "metadata": {},
   "source": [
    "# Struna gitarowa na podstawie równania falowego\n",
    "### Zuzanna Sosnowska, Magdalena Ryś"
   ]
  },
  {
   "cell_type": "markdown",
   "metadata": {},
   "source": [
    "### Opis projektu\n",
    "Projekt ma na celu rozważenie równania falowego na przykładzie struny gitarowej. Równanie rozwiążemy analitycznie, za pomocą metody Fouriera, a także numerycznie, korzystając z metody strzałów.\n",
    "\n",
    "(DALSZY OPIS PROJEKTU)"
   ]
  },
  {
   "cell_type": "markdown",
   "metadata": {},
   "source": [
    "### Dane początkowe\n",
    "Równaniem, na którym opieramy nasze rozważania jest **równanie falowe**:\n",
    "$$ u_{tt} = c^2 u_{xx}, \\quad 0<x<l, \\quad t>0 $$\n",
    "Z **warunkami początkowymi**:\n",
    "$$ \n",
    "\\left\\{\n",
    "\\begin{array}{ll} \n",
    "u(0,x) = f(x), \\quad 0<x<l \\\\\n",
    "u_{t}(0, x)=f(x), \\quad 0<x<l \n",
    "\\end{array} \n",
    "\\right. \n",
    "$$\n",
    "gdzie $f$ jest początkowym przesunięciem, a $g$ początkową prędkością (pierwszą pochodną po położeniu).\n",
    "\n",
    "Kładziemy również **warunki brzegowe**, wynikające z faktu, że rozważamy skończoną strunę gitarową, której końce są unieruchomione:\n",
    "$$ \n",
    "\\left\\{\n",
    "\\begin{array}{ll} \n",
    "u(t,0) = 0, \\quad t>0 \\\\\n",
    "u(t, l)=0, \\quad t>0 \n",
    "\\end{array} \n",
    "\\right. \n",
    "$$"
   ]
  },
  {
   "cell_type": "markdown",
   "metadata": {},
   "source": [
    "### Rozwiązanie analityczne - metoda Fouriera\n",
    "Metoda Fouriera, nazywana również metodą rozdzielania albo separacji zmiennych, służy rozwiązywaniiu równań różniczkowych cząstkowych, takich jak równanie struny. Polega ona na próbie wyznaczenia rozwiązania w postaci kombinacji (najczęściej sumy lub iloczynu) funkcji o mniejszej ilości zmiennych. Metoda ta jest szczególnie pomocna przy równaniach z zadanymi warunkami brzegowymi.\n",
    "\n",
    "W przypadku równania falowego, gdzie $u$ jest funkcją zmiennych $x$ i $t$, rozwiązanie będzie iloczynem dwóch funkcji jednej zmiennej. Wprowadzamy więc postać:\n",
    "$$ U(x,t) = X(x) T(t) $$\n",
    "i podstawiamy ją pod równanie falowe, w wyniku czego otrzymujemy:\n",
    "$$ T''X = c^2 TX'' $$\n",
    "W wyniku czego, zakładając, że $T \\neq 0$ i $X \\neq 0$, mamy:\n",
    "$$\\frac{1}{c^2}\\frac{T''}{T} = \\frac{X''}{X}$$\n",
    "Zauważmy, że lewa strona zależy jedynie od zmiennej $t$, natomiast prawa od $x$. Możemy więc wywnioskować, że muszą one być równe stałej, którą oznaczymy jako $-\\lambda$. Mamy więc:\n",
    "\n",
    "$$ \n",
    "\\left\\{\n",
    "\\begin{array}{ll} \n",
    "\\frac{1}{c^2}\\frac{T''}{T} = -\\lambda \\\\ \\\\\n",
    "\\frac{X''}{X} = -\\lambda \n",
    "\\end{array} \n",
    "\\right. \n",
    "$$"
   ]
  }
 ],
 "metadata": {
  "language_info": {
   "name": "python"
  }
 },
 "nbformat": 4,
 "nbformat_minor": 2
}
